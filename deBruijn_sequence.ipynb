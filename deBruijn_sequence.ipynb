{
 "cells": [
  {
   "cell_type": "code",
   "execution_count": 53,
   "id": "b896d773-c7a3-4662-be32-3e6804de4ee0",
   "metadata": {},
   "outputs": [],
   "source": [
    "class Node:\n",
    "    def __init__(self, label):\n",
    "        self.label = label\n",
    "        self.indegree = 0\n",
    "        self.outdegree = 0\n",
    "\n",
    "class DeBruijnGraph:\n",
    "    def __init__(self):\n",
    "        self.vertices = {}\n",
    "        self.edges = {}\n",
    "    \n",
    "    def add_vertex(self, v):\n",
    "        self.vertices[v] = Node(v)\n",
    "        self.edges[v] = []\n",
    "        \n",
    "    def add_indegree(self, v, n = 1):\n",
    "        self.vertices[v].indegree += n\n",
    "    \n",
    "    def add_outdegree(self, v, n = 1):\n",
    "        self.vertices[v].outdegree += n\n",
    "    \n",
    "    def sub_indegree(self, v, n = 1):\n",
    "        self.vertices[v].indegree -= n\n",
    "    \n",
    "    def sub_outdegree(self, v, n = 1):\n",
    "        self.vertices[v].outdegree -= n\n",
    "        \n",
    "    def add_edge(self, v1, v2):\n",
    "        if v1 not in self.vertices.keys():\n",
    "            self.add_vertex(v1)\n",
    "        self.add_outdegree(v1)\n",
    "        \n",
    "        if v2 not in self.vertices.keys():\n",
    "            self.add_vertex(v2)\n",
    "        self.add_indegree(v2)\n",
    "        \n",
    "        self.edges[v1] += [v2]\n",
    "    \n",
    "    def find_null_indegree_vertices(self):\n",
    "        null_indegree_vertices = []\n",
    "    \n",
    "        for v in self.vertices.keys():\n",
    "            if self.vertices[v].indegree == 0:\n",
    "                null_indegree_vertices += [v]\n",
    "                \n",
    "        return null_indegree_vertices\n",
    "    \n",
    "    def find_null_outdegree_vertices(self):\n",
    "        null_outdegree_vertices = []\n",
    "    \n",
    "        for v in self.vertices.keys():\n",
    "            if self.vertices[v].outdegree == 0:\n",
    "                null_outdegree_vertices += [v]\n",
    "                \n",
    "        return null_outdegree_vertices\n",
    "    \n",
    "    def build_contigs(self):\n",
    "        starts = self.find_null_indegree_vertices()\n",
    "        contigs = []\n",
    "\n",
    "        for start in starts:\n",
    "            contig = start\n",
    "            current_vertex = start\n",
    "\n",
    "            while len(self.edges[current_vertex]) > 0:\n",
    "                next_vertex = self.edges[current_vertex][0]\n",
    "                del self.edges[current_vertex][0]\n",
    "                contig += next_vertex[-1]\n",
    "                current_vertex = next_vertex\n",
    "\n",
    "            contigs += [contig]\n",
    "\n",
    "        return contigs\n",
    "\n",
    "def build_de_Bruijn_graph(reads, k):\n",
    "    g = DeBruijnGraph()\n",
    "\n",
    "    for read in reads:\n",
    "        i = 0\n",
    "        for i in range(len(read) - k):\n",
    "            v1 = read[i:i+k]\n",
    "            v2 = read[i+1:i+k+1]\n",
    "            g.add_edge(v1, v2)\n",
    "            \n",
    "    return g"
   ]
  },
  {
   "cell_type": "code",
   "execution_count": 54,
   "id": "40308a2a-b02c-45e6-bce4-2e2605239cba",
   "metadata": {
    "tags": []
   },
   "outputs": [
    {
     "data": {
      "text/plain": [
       "['abcdefghijkl', 'lmmooop']"
      ]
     },
     "execution_count": 54,
     "metadata": {},
     "output_type": "execute_result"
    }
   ],
   "source": [
    "test = ['bcdefg', 'hijkl', 'defghi', 'abcd', 'lmmo', 'mooop']\n",
    "build_de_Bruijn_graph(test, 2).build_contigs()"
   ]
  },
  {
   "cell_type": "code",
   "execution_count": 14,
   "id": "aa61eff1-82e6-45ee-98e3-9086b5c18667",
   "metadata": {
    "tags": []
   },
   "outputs": [],
   "source": []
  },
  {
   "cell_type": "code",
   "execution_count": null,
   "id": "4c6e6ec2-7165-4eec-a136-e4d9c6cc927d",
   "metadata": {},
   "outputs": [],
   "source": []
  }
 ],
 "metadata": {
  "kernelspec": {
   "display_name": "Python 3 (ipykernel)",
   "language": "python",
   "name": "python3"
  },
  "language_info": {
   "codemirror_mode": {
    "name": "ipython",
    "version": 3
   },
   "file_extension": ".py",
   "mimetype": "text/x-python",
   "name": "python",
   "nbconvert_exporter": "python",
   "pygments_lexer": "ipython3",
   "version": "3.11.0"
  }
 },
 "nbformat": 4,
 "nbformat_minor": 5
}
