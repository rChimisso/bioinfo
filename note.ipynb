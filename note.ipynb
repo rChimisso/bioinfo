{
 "cells": [
  {
   "cell_type": "code",
   "execution_count": null,
   "metadata": {},
   "outputs": [],
   "source": [
    "# Test for graph visualization, make sure to run Cytoscape before.\n",
    "\n",
    "import py4cytoscape as p4c\n",
    "import pandas as pd\n",
    "\n",
    "nodes = pd.DataFrame(data={'id': [\"node 0\",\"node 1\",\"node 2\",\"node 3\"], 'group': [\"A\",\"A\",\"B\",\"B\"], 'score': [20,10,15,5]})\n",
    "edges = pd.DataFrame(data={'source': [\"node 0\",\"node 0\",\"node 0\",\"node 2\"], 'target': [\"node 1\",\"node 2\",\"node 3\",\"node 3\"], 'interaction': [\"inhibits\",\"interacts\",\"activates\",\"interacts\"], 'weight': [5.1,3.0,5.2,9.9]})\n",
    "\n",
    "p4c.create_network_from_data_frames(nodes, edges, title=\"my first network\", collection=\"DataFrame Example\")"
   ]
  },
  {
   "cell_type": "code",
   "execution_count": null,
   "metadata": {},
   "outputs": [],
   "source": [
    "# Building all k-mers from a FASTQ file.\n",
    "\n",
    "from Bio.SeqRecord import SeqRecord\n",
    "from Bio.Seq import Seq\n",
    "from Bio import SeqIO\n",
    "\n",
    "def build_k_mers(reads: list[SeqRecord], k: int) -> list[Seq]:\n",
    "  \"\"\"\n",
    "  Builds and returns all k-mers from the given list of reads.\n",
    "  Instead of a list of k-mers for each read, the returned list is flattened.\n",
    "\n",
    "  :param reads: List of reads.\n",
    "  :type reads: list[SeqRecord]\n",
    "  :param k: Length of the k-mers. All reads shorter than k are discarted.\n",
    "  :type k: int\n",
    "\n",
    "  :return: Flattened list of all k-mers for each read.\n",
    "  :rtype: list[Seq]\n",
    "  \"\"\"\n",
    "  seqs: list[Seq] = [read.seq for read in reads if len(read) >= k]\n",
    "  k_mers = [[seq[i : i + k] for i in range(len(seq) - k + 1)] for seq in seqs]\n",
    "  return [k_mer for seq_k_mers in k_mers for k_mer in seq_k_mers]\n",
    "\n",
    "with open('SRR000062.fastq') as fastq:\n",
    "  reads = SeqIO.parse(fastq, \"fastq\")\n",
    "  print(build_k_mers(reads, 10))\n"
   ]
  }
 ],
 "metadata": {
  "kernelspec": {
   "display_name": "base",
   "language": "python",
   "name": "python3"
  },
  "language_info": {
   "codemirror_mode": {
    "name": "ipython",
    "version": 3
   },
   "file_extension": ".py",
   "mimetype": "text/x-python",
   "name": "python",
   "nbconvert_exporter": "python",
   "pygments_lexer": "ipython3",
   "version": "3.9.13"
  },
  "orig_nbformat": 4
 },
 "nbformat": 4,
 "nbformat_minor": 2
}
