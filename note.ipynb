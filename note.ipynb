{
 "cells": [
  {
   "cell_type": "code",
   "execution_count": null,
   "metadata": {},
   "outputs": [],
   "source": [
    "# Test for graph visualization, make sure to run Cytoscape before.\n",
    "\n",
    "import py4cytoscape as p4c\n",
    "import pandas as pd\n",
    "\n",
    "nodes = pd.DataFrame(data={'id': [\"node 0\",\"node 1\",\"node 2\",\"node 3\"], 'group': [\"A\",\"A\",\"B\",\"B\"], 'score': [20,10,15,5]})\n",
    "edges = pd.DataFrame(data={'source': [\"node 0\",\"node 0\",\"node 0\",\"node 2\"], 'target': [\"node 1\",\"node 2\",\"node 3\",\"node 3\"], 'interaction': [\"inhibits\",\"interacts\",\"activates\",\"interacts\"], 'weight': [5.1,3.0,5.2,9.9]})\n",
    "\n",
    "p4c.create_network_from_data_frames(nodes, edges, title=\"my first network\", collection=\"DataFrame Example\")"
   ]
  },
  {
   "cell_type": "code",
   "execution_count": null,
   "metadata": {},
   "outputs": [],
   "source": [
    "# Building k-mers from a FASTQ/TXT file.\n",
    "\n",
    "from kmers import build_k_mers, build_k_mers_parallel, build_k_mers_parallel_batch\n",
    "from converter import export_fastq, extract_seqs\n",
    "\n",
    "# Changes the amount of reads read from the file. Set to None to read the whole file.\n",
    "amount = 500000\n",
    "# K-mers length.\n",
    "k = 50\n",
    "\n",
    "# Comment the line below if you have already exported the FASTQ file to TXT.\n",
    "export_fastq('SRR034510')\n",
    "# Build all k-mers and save them. Change the building function to use a different building algorithm.\n",
    "k_mers = build_k_mers(extract_seqs('SRR034510')[:amount], k)"
   ]
  },
  {
   "cell_type": "code",
   "execution_count": null,
   "metadata": {},
   "outputs": [],
   "source": [
    "from debruijn import build_de_Bruijn_graph, plot_de_Bruijn_graph\n",
    "\n",
    "from Bio import SeqIO\n",
    "from igraph import Graph\n",
    "import igraph as IGraph\n",
    "\n",
    "with open('SRR000062.fastq') as fastq:\n",
    "  reads = SeqIO.parse(fastq, \"fastq\")\n",
    "  grafo = build_de_Bruijn_graph([str(read.seq) for read in reads], 50)\n",
    "  contigs = grafo.build_contigs()"
   ]
  },
  {
   "cell_type": "code",
   "execution_count": null,
   "metadata": {},
   "outputs": [],
   "source": [
    "graph = Graph.ListDict(grafo.edges, directed=True, vertex_name_attr='label')\n",
    "layout = graph.layout(\"kk\")\n",
    "IGraph.plot(\n",
    "  graph,\n",
    "  layout = layout,\n",
    "  #vertex_size=1.3,\n",
    "  vertex_color=['yellow'],\n",
    "  #label_dist = 200,\n",
    "  #edge_width=[2],\n",
    "  #edge_color=['black'],\n",
    "  #margin = [200],\n",
    "  #target = ax,\n",
    "  #edge_arrow_size = 0.02,\n",
    "  #edge_arrow_width = 2\n",
    "  bbox = (1000, 1000)\n",
    ")"
   ]
  }
 ],
 "metadata": {
  "kernelspec": {
   "display_name": "base",
   "language": "python",
   "name": "python3"
  },
  "language_info": {
   "codemirror_mode": {
    "name": "ipython",
    "version": 3
   },
   "file_extension": ".py",
   "mimetype": "text/x-python",
   "name": "python",
   "nbconvert_exporter": "python",
   "pygments_lexer": "ipython3",
   "version": "3.9.13"
  },
  "orig_nbformat": 4
 },
 "nbformat": 4,
 "nbformat_minor": 2
}
