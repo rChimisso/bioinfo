{
 "cells": [
  {
   "cell_type": "code",
   "execution_count": null,
   "metadata": {},
   "outputs": [],
   "source": [
    "# Test for graph visualization, make sure to run Cytoscape before.\n",
    "\n",
    "import py4cytoscape as p4c\n",
    "import pandas as pd\n",
    "\n",
    "nodes = pd.DataFrame(data={'id': [\"node 0\",\"node 1\",\"node 2\",\"node 3\"], 'group': [\"A\",\"A\",\"B\",\"B\"], 'score': [20,10,15,5]})\n",
    "edges = pd.DataFrame(data={'source': [\"node 0\",\"node 0\",\"node 0\",\"node 2\"], 'target': [\"node 1\",\"node 2\",\"node 3\",\"node 3\"], 'interaction': [\"inhibits\",\"interacts\",\"activates\",\"interacts\"], 'weight': [5.1,3.0,5.2,9.9]})\n",
    "\n",
    "p4c.create_network_from_data_frames(nodes, edges, title=\"my first network\", collection=\"DataFrame Example\")"
   ]
  },
  {
   "cell_type": "code",
   "execution_count": null,
   "metadata": {},
   "outputs": [],
   "source": [
    "# Building all k-mers from a FASTQ file.\n",
    "\n",
    "from Bio import SeqIO\n",
    "from kmers import build_k_mers_parallel, build_k_mers\n",
    "\n",
    "with open('SRR000062.fastq') as fastq:\n",
    "  reads = SeqIO.parse(fastq, \"fastq\")\n",
    "  k_mers = build_k_mers(reads, 10)\n",
    "  print(f'Number of k-mers built: {len(k_mers)}')\n",
    "  # print(f'k-mers: {k_mers}')"
   ]
  }
 ],
 "metadata": {
  "kernelspec": {
   "display_name": "base",
   "language": "python",
   "name": "python3"
  },
  "language_info": {
   "codemirror_mode": {
    "name": "ipython",
    "version": 3
   },
   "file_extension": ".py",
   "mimetype": "text/x-python",
   "name": "python",
   "nbconvert_exporter": "python",
   "pygments_lexer": "ipython3",
   "version": "3.9.13"
  },
  "orig_nbformat": 4
 },
 "nbformat": 4,
 "nbformat_minor": 2
}
