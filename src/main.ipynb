{
 "cells": [
  {
   "attachments": {},
   "cell_type": "markdown",
   "id": "b5790032",
   "metadata": {},
   "source": [
    "### Create the de Bruijn Graph and reconstruct the sequence\n",
    "Select your file in *FASTA*/*FASTQ* format and the length of the k-mers.  \n",
    "Build the graph and construct the eulerian paths."
   ]
  },
  {
   "cell_type": "code",
   "execution_count": null,
   "id": "c0dc4015-736a-4f67-8ff4-5e5c716b0f64",
   "metadata": {},
   "outputs": [],
   "source": [
    "from DeBruijnGraph import DeBruijnGraph\n",
    "\n",
    "# Create graph\n",
    "graph = DeBruijnGraph(40, 'SRR24689842.fastq', 15)\n",
    "# Display graph\n",
    "graph.get_eulerian_paths()"
   ]
  },
  {
   "attachments": {},
   "cell_type": "markdown",
   "id": "9d3f209b",
   "metadata": {},
   "source": [
    "### Visualize the graph with Cytoscape\n",
    "Ensure you have Cytoscape up and running before executing the following cell.  \n",
    "Visualize the graph with Cytoscape and optionally highlight the eulerian paths."
   ]
  },
  {
   "cell_type": "code",
   "execution_count": null,
   "id": "13538ba0-a3eb-4031-bd63-257acceed298",
   "metadata": {},
   "outputs": [],
   "source": [
    "graph.visualize_with_cytoscape(True)"
   ]
  }
 ],
 "metadata": {
  "kernelspec": {
   "display_name": "Python 3 (ipykernel)",
   "language": "python",
   "name": "python3"
  },
  "language_info": {
   "codemirror_mode": {
    "name": "ipython",
    "version": 3
   },
   "file_extension": ".py",
   "mimetype": "text/x-python",
   "name": "python",
   "nbconvert_exporter": "python",
   "pygments_lexer": "ipython3",
   "version": "3.9.13"
  }
 },
 "nbformat": 4,
 "nbformat_minor": 5
}
